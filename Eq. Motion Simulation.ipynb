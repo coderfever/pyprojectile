{
 "cells": [
  {
   "cell_type": "code",
   "execution_count": 74,
   "metadata": {},
   "outputs": [],
   "source": [
    "\"\"\"\n",
    "Attempt to learn Python Class by creating a simple simulator\n",
    "for projectile motion.\n",
    "\n",
    "\n",
    "\"\"\"\n",
    "\n",
    "import math\n",
    "class ObjectMotion():\n",
    "    \n",
    "    GRAVITY = -9.8\n",
    "    \n",
    "    def __init__(self, angle=0, height=None, velocity=None):\n",
    "        self.angle = angle\n",
    "        self.y_disp = height\n",
    "        self.x_disp = 0\n",
    "        self.x_velocity = velocity * math.cos(self.angle * math.pi/180.0)\n",
    "        self.y_velocity = velocity * math.sin(self.angle * math.pi/180.0)\n",
    "\n",
    "    def y_motion(self, dt):\n",
    "        self.y_disp +=  self.y_velocity * dt + dt **2 * ObjectMotion.GRAVITY / 2\n",
    "        self.y_velocity += ObjectMotion.GRAVITY * dt\n",
    "        pass\n",
    "\n",
    "    def x_motion(self, dt):\n",
    "        self.x_disp += self.x_velocity * dt\n",
    "        pass\n",
    "        \n",
    "    def calc_motion(self, dt):\n",
    "        x, y = [self.x_disp], [self.y_disp]\n",
    "        v_y = [self.y_velocity]\n",
    "        while self.y_disp >= 0:\n",
    "            self.y_motion(dt)\n",
    "            self.x_motion(dt)\n",
    "            x.append(self.x_disp)\n",
    "            y.append(self.y_disp)\n",
    "            v_y.append(self.y_velocity)\n",
    "        return x, y"
   ]
  },
  {
   "cell_type": "code",
   "execution_count": 75,
   "metadata": {},
   "outputs": [
    {
     "data": {
      "text/plain": [
       "[<matplotlib.lines.Line2D at 0x1a7104900b8>]"
      ]
     },
     "execution_count": 75,
     "metadata": {},
     "output_type": "execute_result"
    },
    {
     "data": {
      "image/png": "[encoded data removed]",
      "text/plain": [
       "<matplotlib.figure.Figure at 0x1a710490eb8>"
      ]
     },
     "metadata": {},
     "output_type": "display_data"
    }
   ],
   "source": [
    "import matplotlib.pyplot as plt\n",
    "ball = ObjectMotion(angle=45, height=0, velocity=3)\n",
    "x, y = ball.calc_motion(0.005)\n",
    "plt.plot(x,y)\n",
    "plt.xlim([0, max(max(x),max(y))])\n",
    "plt.ylim([0, max(max(x),max(y))])\n",
    "\n",
    "ball = ObjectMotion(angle=30, height=0, velocity=3)\n",
    "x, y = ball.calc_motion(0.005)\n",
    "plt.plot(x,y)\n",
    "\n",
    "ball = ObjectMotion(angle=60, height=0, velocity=3)\n",
    "x, y = ball.calc_motion(0.005)\n",
    "plt.plot(x,y)"
   ]
  }
 ],
 "metadata": {
  "kernelspec": {
   "display_name": "Python 3",
   "language": "python",
   "name": "python3"
  },
  "language_info": {
   "codemirror_mode": {
    "name": "ipython",
    "version": 3
   },
   "file_extension": ".py",
   "mimetype": "text/x-python",
   "name": "python",
   "nbconvert_exporter": "python",
   "pygments_lexer": "ipython3",
   "version": "3.6.4"
  }
 },
 "nbformat": 4,
 "nbformat_minor": 2
}
